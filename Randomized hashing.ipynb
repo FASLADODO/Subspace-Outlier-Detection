{
 "cells": [
  {
   "cell_type": "markdown",
   "metadata": {},
   "source": [
    "# count min sketch source :\n",
    "https://github.com/rafacarrascosa/countminsketch"
   ]
  },
  {
   "cell_type": "code",
   "execution_count": 1,
   "metadata": {
    "collapsed": false
   },
   "outputs": [],
   "source": [
    "import pip\n",
    "pip.main(['install', \"countminsketch\"])"
   ]
  },
  {
   "cell_type": "code",
   "execution_count": 1,
   "metadata": {
    "collapsed": true
   },
   "outputs": [],
   "source": [
    "#from count_min_sketch import CountMinSketch\n",
    "from countminsketch import CountMinSketch\n",
    "import pandas as pd\n",
    "import os\n",
    "import sys\n",
    "import matplotlib.pyplot as plt\n",
    "import numpy as np\n",
    "import math"
   ]
  },
  {
   "cell_type": "code",
   "execution_count": 4,
   "metadata": {
    "collapsed": false
   },
   "outputs": [],
   "source": [
    "np.random.seed(10)\n",
    "p= 10000\n",
    "w = 4\n",
    "\n",
    "#column_names = ['A','B','C','D','E','F','G','H','I','J']\n",
    "#data_frame = pd.read_fwf(\"F:\\\\IIT HYDERABAD NOTES\\\\Topics in DBMS\\\\yeast.data\",\n",
    "#                         sep = '\\t',names = column_names)\n",
    "#print data_frame.head()"
   ]
  },
  {
   "cell_type": "code",
   "execution_count": 25,
   "metadata": {
    "collapsed": false
   },
   "outputs": [
    {
     "data": {
      "text/plain": [
       "\"data_frame['A'] = data_frame['A'].astype('category')\\ndata_frame['J'] = data_frame['J'].astype('category')\\ncat_cols = ['A','J']\\n\\ndata_frame[cat_cols] = data_frame[cat_cols].apply(lambda x : x.cat.codes)\\nprint data_frame.head()\\nprint(data_frame.shape)\\n\\n#data_list = data_frame.values.tolist()\\n\""
      ]
     },
     "execution_count": 25,
     "metadata": {},
     "output_type": "execute_result"
    }
   ],
   "source": [
    "\"\"\"data_frame['A'] = data_frame['A'].astype('category')\n",
    "data_frame['J'] = data_frame['J'].astype('category')\n",
    "cat_cols = ['A','J']\n",
    "\n",
    "data_frame[cat_cols] = data_frame[cat_cols].apply(lambda x : x.cat.codes)\n",
    "print data_frame.head()\n",
    "print(data_frame.shape)\n",
    "\n",
    "#data_list = data_frame.values.tolist()\n",
    "\"\"\""
   ]
  },
  {
   "cell_type": "code",
   "execution_count": 5,
   "metadata": {
    "collapsed": false
   },
   "outputs": [
    {
     "name": "stdout",
     "output_type": "stream",
     "text": [
      "     0     1     2     3     4     5     6     7     8     9  ...    12    13  \\\n",
      "0  2.06  2.38 -1.49 -0.50 -1.03  1.72  2.13  1.56  4.33  2.53 ...  4.01  2.22   \n",
      "1  1.65  1.58  1.83  1.80  3.59  2.79  3.52  4.77  5.15  5.14 ...  0.29  2.28   \n",
      "2  0.21  0.25  0.27 -0.43 -0.02  0.58  0.22 -0.35  0.06  2.71 ...  3.21  4.92   \n",
      "3 -0.62  0.87  1.69  0.40  0.92  3.56  4.17  5.26  2.19  5.30 ...  2.45  1.99   \n",
      "4  0.39  0.61 -0.08 -0.37  1.09 -0.81  0.56 -0.10  3.50  4.20 ...  4.85  4.64   \n",
      "\n",
      "     14    15    16    17    18    19    20  21  \n",
      "0  4.22  2.39  2.47  0.80 -0.14 -0.46 -0.33   2  \n",
      "1  2.14 -0.24 -0.72  0.13 -0.39 -0.06 -1.18   1  \n",
      "2  4.23  5.47  3.97  3.60  1.86  0.40  0.26   2  \n",
      "3  2.00  0.12 -0.53 -0.79 -1.31  0.11 -1.09   1  \n",
      "4  4.25  3.49  1.99  3.30  1.61  0.56  1.80   2  \n",
      "\n",
      "[5 rows x 22 columns]\n"
     ]
    }
   ],
   "source": [
    "waveform_data = pd.read_csv(\"sanitized_waveform.data\",header = None)\n",
    "\n",
    "#count = 0\n",
    "\n",
    "#for i in range(0,len(waveform_data)):\n",
    "#    waveform_data[i] = tuple(waveform_data[i])\n",
    "    \n",
    "\n",
    "print(waveform_data.head())"
   ]
  },
  {
   "cell_type": "code",
   "execution_count": null,
   "metadata": {
    "collapsed": false
   },
   "outputs": [],
   "source": []
  },
  {
   "cell_type": "code",
   "execution_count": 6,
   "metadata": {
    "collapsed": false
   },
   "outputs": [],
   "source": [
    "a = CountMinSketch(p,w)"
   ]
  },
  {
   "cell_type": "code",
   "execution_count": 7,
   "metadata": {
    "collapsed": false
   },
   "outputs": [
    {
     "data": {
      "text/plain": [
       "'a[1] = 2\\na[1] += 1\\nfor i in a.get_columns(1):\\n    print i\\n\\nprint(a.query(1))\\n'"
      ]
     },
     "execution_count": 7,
     "metadata": {},
     "output_type": "execute_result"
    }
   ],
   "source": [
    "#print(data_frame.ix[1].values.tolist())\n",
    "#a[1] = data_frame.ix[1].values.tolist()\n",
    "\"\"\"a[1] = 2\n",
    "a[1] += 1\n",
    "for i in a.get_columns(1):\n",
    "    print i\n",
    "\n",
    "print(a.query(1))\n",
    "\"\"\"\n",
    "\n",
    "#a.add(tuple([1,2,3]))\n",
    "#print a[tuple([1,2,3])]\n",
    "#print a[tuple([1,2,3]]\n",
    "#print(a.tables)\n",
    "#p = [4,5,6]\n",
    "#p = np.vectorize(p)\n",
    "#print(p[0])\n",
    "\n",
    "\n"
   ]
  },
  {
   "cell_type": "code",
   "execution_count": 8,
   "metadata": {
    "collapsed": false
   },
   "outputs": [
    {
     "name": "stdout",
     "output_type": "stream",
     "text": [
      "0.422269993919\n"
     ]
    }
   ],
   "source": [
    "seed_np = np.random.seed(1)\n",
    "s = 1000.0                                                      #sample size\n",
    "sqrt_s = np.sqrt(s)\n",
    "\n",
    "f = np.random.uniform(1.0/sqrt_s,1.0 - (1.0/sqrt_s))            #locality parameter\n",
    "\n",
    "print(f)"
   ]
  },
  {
   "cell_type": "code",
   "execution_count": 9,
   "metadata": {
    "collapsed": false
   },
   "outputs": [
    {
     "name": "stdout",
     "output_type": "stream",
     "text": [
      "[  3.04171419e+00   4.82970534e-04   1.27665974e+00   6.19706091e-01\n",
      "   3.89918179e-01   7.86520983e-01   1.45919926e+00   1.67542999e+00\n",
      "   2.27526139e+00   1.77013265e+00   2.89347634e+00   8.63340503e-01\n",
      "   3.70802645e+00   1.15649588e-01   2.83118311e+00   1.76215296e+00\n",
      "   2.35917950e+00   5.92811917e-01   8.36523146e-01   3.38130404e+00\n",
      "   4.08867810e+00   1.32349626e+00]\n"
     ]
    }
   ],
   "source": [
    "d = waveform_data.shape[1]                                         #dimension of the dataset\n",
    "\n",
    "random_vector = np.random.uniform(0,f,d)*10\n",
    "print(random_vector)"
   ]
  },
  {
   "cell_type": "code",
   "execution_count": 10,
   "metadata": {
    "collapsed": false
   },
   "outputs": [
    {
     "name": "stdout",
     "output_type": "stream",
     "text": [
      "(1000, 22)\n",
      "2.36815311152\n"
     ]
    }
   ],
   "source": [
    "sample_data = waveform_data.sample(n = s,random_state=12)\n",
    "print(sample_data.shape)\n",
    "base = np.maximum(2,1.0/f)\n",
    "print(base)"
   ]
  },
  {
   "cell_type": "code",
   "execution_count": 12,
   "metadata": {
    "collapsed": false
   },
   "outputs": [
    {
     "name": "stdout",
     "output_type": "stream",
     "text": [
      "        1     16    9     4     14    6 \n",
      "3288 -0.16  4.34  1.76 -0.04  4.93  0.87\n",
      "3366  1.25  0.22  3.71  1.22  1.69  3.77\n",
      "2037 -0.51 -0.04  4.34  1.88 -1.12  1.55\n",
      "2881  0.82 -0.79  4.34  4.88 -0.71  6.19\n",
      "2999  0.64  2.44  1.46 -0.40  3.77  2.24\n"
     ]
    }
   ],
   "source": [
    "#randomly select 'r' columns from dataset\n",
    "np.random.seed(1)\n",
    "r = int(np.random.uniform(1.0+(0.5*math.log(s,base)),math.log(s,base)))\n",
    "waveform_randomly = sample_data.sample(n=r,axis = 1)#waveform_data.sample(n=r,axis = 1)\n",
    "print(waveform_randomly.head())\n"
   ]
  },
  {
   "cell_type": "code",
   "execution_count": 33,
   "metadata": {
    "collapsed": false
   },
   "outputs": [
    {
     "name": "stdout",
     "output_type": "stream",
     "text": [
      "        13    5     9     10    8     12\n",
      "466   3.59 -0.61  2.93  4.02  1.72  4.68\n",
      "1962  4.90  1.98  4.55  5.11  5.32  4.67\n",
      "25    0.26  4.54  3.13  2.21  2.79  2.01\n",
      "1686  3.24  2.21  4.42  4.82  3.21  3.74\n",
      "947   4.22 -1.10  3.27  2.99  4.23  4.88\n"
     ]
    }
   ],
   "source": [
    "#sample 1000 data from randomly_waveform\n",
    "#waveform_randomly_train = waveform_randomly.sample(n=1000,axis = 0)\n",
    "#print(waveform_randomly_train.head())\n",
    "\n",
    "\n",
    "#for i in range(0,len(waveform_data)):\n",
    "#    waveform_randomly[i] = tuple(waveform_data[i])"
   ]
  },
  {
   "cell_type": "code",
   "execution_count": 13,
   "metadata": {
    "collapsed": false
   },
   "outputs": [
    {
     "name": "stdout",
     "output_type": "stream",
     "text": [
      "1     3.40\n",
      "16    6.06\n",
      "9     7.49\n",
      "4     6.11\n",
      "14    8.40\n",
      "6     8.20\n",
      "dtype: float64\n",
      "1    -3.25\n",
      "16   -2.88\n",
      "9    -1.24\n",
      "4    -3.00\n",
      "14   -1.77\n",
      "6    -2.77\n",
      "dtype: float64\n"
     ]
    }
   ],
   "source": [
    "col_max = np.max(waveform_randomly,axis = 0)\n",
    "col_min = np.min(waveform_randomly,axis = 0)\n",
    "print(col_max)\n",
    "print(col_min)"
   ]
  },
  {
   "cell_type": "code",
   "execution_count": 14,
   "metadata": {
    "collapsed": false
   },
   "outputs": [
    {
     "name": "stdout",
     "output_type": "stream",
     "text": [
      "            1         16        9         4         14        6 \n",
      "3288  0.464662  0.807606  0.343643  0.324918  0.658800  0.331814\n",
      "3366  0.676692  0.346756  0.567010  0.463227  0.340216  0.596171\n",
      "2037  0.412030  0.317673  0.639175  0.535675  0.063913  0.393801\n",
      "2881  0.612030  0.233781  0.639175  0.864984  0.104228  0.816773\n",
      "2999  0.584962  0.595078  0.309278  0.285401  0.544739  0.456700\n"
     ]
    }
   ],
   "source": [
    "normalized_waveform = (waveform_randomly - col_min)/(col_max-col_min)\n",
    "print(normalized_waveform.head())"
   ]
  },
  {
   "cell_type": "code",
   "execution_count": 15,
   "metadata": {
    "collapsed": false
   },
   "outputs": [
    {
     "name": "stdout",
     "output_type": "stream",
     "text": [
      "Int64Index([1, 16, 9, 4, 14, 6], dtype='int64')\n",
      "      0     1   2   3     4   5     6   7   8     9  ...  12  13    14  15  \\\n",
      "3288  -1 -0.16  -1  -1 -0.04  -1  0.87  -1  -1  1.76 ...  -1  -1  4.93  -1   \n",
      "3366  -1  1.25  -1  -1  1.22  -1  3.77  -1  -1  3.71 ...  -1  -1  1.69  -1   \n",
      "2037  -1 -0.51  -1  -1  1.88  -1  1.55  -1  -1  4.34 ...  -1  -1 -1.12  -1   \n",
      "2881  -1  0.82  -1  -1  4.88  -1  6.19  -1  -1  4.34 ...  -1  -1 -0.71  -1   \n",
      "2999  -1  0.64  -1  -1 -0.40  -1  2.24  -1  -1  1.46 ...  -1  -1  3.77  -1   \n",
      "\n",
      "        16  17  18  19  20  21  \n",
      "3288  4.34  -1  -1  -1  -1  -1  \n",
      "3366  0.22  -1  -1  -1  -1  -1  \n",
      "2037 -0.04  -1  -1  -1  -1  -1  \n",
      "2881 -0.79  -1  -1  -1  -1  -1  \n",
      "2999  2.44  -1  -1  -1  -1  -1  \n",
      "\n",
      "[5 rows x 22 columns]\n"
     ]
    }
   ],
   "source": [
    "included_cols = waveform_randomly.columns\n",
    "Y_cap = sample_data\n",
    "print(included_cols)\n",
    "\n",
    "for col in Y_cap:\n",
    "    if col not in included_cols:\n",
    "        Y_cap[col] = -1\n",
    "        \n",
    "print(Y_cap.head())"
   ]
  },
  {
   "cell_type": "code",
   "execution_count": 16,
   "metadata": {
    "collapsed": false
   },
   "outputs": [
    {
     "name": "stdout",
     "output_type": "stream",
     "text": [
      "            1         4         6         9         14        16\n",
      "3288  0.464662  0.324918  0.331814  0.343643  0.658800  0.807606\n",
      "3366  0.676692  0.463227  0.596171  0.567010  0.340216  0.346756\n",
      "2037  0.412030  0.535675  0.393801  0.639175  0.063913  0.317673\n",
      "2881  0.612030  0.864984  0.816773  0.639175  0.104228  0.233781\n",
      "2999  0.584962  0.285401  0.456700  0.309278  0.544739  0.595078\n"
     ]
    }
   ],
   "source": [
    "normlized_waveform_sorted  = normalized_waveform.sort_index(axis = 1)\n",
    "print(normlized_waveform_sorted.head())"
   ]
  },
  {
   "cell_type": "code",
   "execution_count": 17,
   "metadata": {
    "collapsed": false
   },
   "outputs": [
    {
     "name": "stdout",
     "output_type": "stream",
     "text": [
      "            0         1         2         3          4         5          6   \\\n",
      "3288  4.835092 -0.377761  0.655173 -0.900594   0.828660 -0.505551   5.515900   \n",
      "3366  4.835092  2.961335  0.655173 -0.900594   3.812533 -0.505551  12.383545   \n",
      "2037  4.835092 -1.206614  0.655173 -0.900594   5.375514 -0.505551   7.126245   \n",
      "2881  4.835092  1.943029  0.655173 -0.900594  12.479973 -0.505551  18.114475   \n",
      "2999  4.835092  1.516762  0.655173 -0.900594  -0.023875 -0.505551   8.760270   \n",
      "\n",
      "            7         8          9     ...           12        13         14  \\\n",
      "3288  1.599522  3.020014   8.359895    ...     6.413021 -2.094277  18.379670   \n",
      "3366  1.599522  3.020014  12.977793    ...     6.413021 -2.094277  10.706854   \n",
      "2037  1.599522  3.020014  14.469730    ...     6.413021 -2.094277   4.052344   \n",
      "2881  1.599522  3.020014  14.469730    ...     6.413021 -2.094277   5.023286   \n",
      "2999  1.599522  3.020014   7.649449    ...     6.413021 -2.094277  15.632612   \n",
      "\n",
      "            15         16        17        18        19        20        21  \n",
      "3288  1.804895  15.864683 -0.964284 -0.387138  5.639293  7.314463  0.766089  \n",
      "3366  1.804895   6.107892 -0.964284 -0.387138  5.639293  7.314463  0.766089  \n",
      "2037  1.804895   5.492172 -0.964284 -0.387138  5.639293  7.314463  0.766089  \n",
      "2881  1.804895   3.716057 -0.964284 -0.387138  5.639293  7.314463  0.766089  \n",
      "2999  1.804895  11.365192 -0.964284 -0.387138  5.639293  7.314463  0.766089  \n",
      "\n",
      "[5 rows x 22 columns]\n"
     ]
    }
   ],
   "source": [
    "frame_to_hash = (Y_cap+random_vector)/f\n",
    "print(frame_to_hash.head())"
   ]
  },
  {
   "cell_type": "code",
   "execution_count": null,
   "metadata": {
    "collapsed": true
   },
   "outputs": [],
   "source": []
  }
 ],
 "metadata": {
  "kernelspec": {
   "display_name": "Python 2",
   "language": "python",
   "name": "python2"
  },
  "language_info": {
   "codemirror_mode": {
    "name": "ipython",
    "version": 2
   },
   "file_extension": ".py",
   "mimetype": "text/x-python",
   "name": "python",
   "nbconvert_exporter": "python",
   "pygments_lexer": "ipython2",
   "version": "2.7.11"
  }
 },
 "nbformat": 4,
 "nbformat_minor": 2
}
