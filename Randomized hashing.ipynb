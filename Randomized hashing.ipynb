{
 "cells": [
  {
   "cell_type": "code",
   "execution_count": null,
   "metadata": {
    "collapsed": false
   },
   "outputs": [],
   "source": [
    "import pip\n",
    "pip.main(['install', \"git+https://github.com/AWNystrom/CountMinSketch\"])"
   ]
  },
  {
   "cell_type": "code",
   "execution_count": 81,
   "metadata": {
    "collapsed": true
   },
   "outputs": [],
   "source": [
    "from count_min_sketch import CountMinSketch\n",
    "import pandas as pd\n",
    "import os\n",
    "import sys\n",
    "import matplotlib.pyplot as plt\n",
    "import numpy as np\n",
    "import math"
   ]
  },
  {
   "cell_type": "code",
   "execution_count": 6,
   "metadata": {
    "collapsed": false
   },
   "outputs": [
    {
     "name": "stdout",
     "output_type": "stream",
     "text": [
      "            A     B     C     D     E    F  G     H     I    J\n",
      "0  ADT1_YEAST  0.58  0.61  0.47  0.13  0.5  0  0.48  0.22  MIT\n",
      "1  ADT2_YEAST  0.43  0.67  0.48  0.27  0.5  0  0.53  0.22  MIT\n",
      "2  ADT3_YEAST  0.64  0.62  0.49  0.15  0.5  0  0.53  0.22  MIT\n",
      "3  AAR2_YEAST  0.58  0.44  0.57  0.13  0.5  0  0.54  0.22  NUC\n",
      "4  AATM_YEAST  0.42  0.44  0.48  0.54  0.5  0  0.48  0.22  MIT\n"
     ]
    }
   ],
   "source": [
    "p= 10000\n",
    "w = 4\n",
    "\n",
    "column_names = ['A','B','C','D','E','F','G','H','I','J']\n",
    "data_frame = pd.read_fwf(\"yeast.data\",\n",
    "                         sep = '\\t',names = column_names)\n",
    "print data_frame.head()"
   ]
  },
  {
   "cell_type": "code",
   "execution_count": 66,
   "metadata": {
    "collapsed": false
   },
   "outputs": [
    {
     "name": "stdout",
     "output_type": "stream",
     "text": [
      "      A     B     C     D     E    F    G     H     I  J\n",
      "0    32  0.58  0.61  0.47  0.13  0.5  0.0  0.48  0.22  6\n",
      "1    33  0.43  0.67  0.48  0.27  0.5  0.0  0.53  0.22  6\n",
      "2    34  0.64  0.62  0.49  0.15  0.5  0.0  0.53  0.22  6\n",
      "3     2  0.58  0.44  0.57  0.13  0.5  0.0  0.54  0.22  7\n",
      "4     4  0.42  0.44  0.48  0.54  0.5  0.0  0.48  0.22  6\n",
      "5     3  0.51  0.40  0.56  0.17  0.5  0.5  0.49  0.22  0\n",
      "6     5  0.50  0.54  0.48  0.65  0.5  0.0  0.53  0.22  6\n",
      "7   100  0.48  0.45  0.59  0.20  0.5  0.0  0.58  0.34  7\n",
      "8     6  0.55  0.50  0.66  0.36  0.5  0.0  0.49  0.22  6\n",
      "9     7  0.40  0.39  0.60  0.15  0.5  0.0  0.58  0.30  0\n",
      "10    8  0.43  0.39  0.54  0.21  0.5  0.0  0.53  0.27  7\n",
      "11    9  0.42  0.37  0.59  0.20  0.5  0.0  0.52  0.29  7\n",
      "12   11  0.40  0.42  0.57  0.35  0.5  0.0  0.53  0.25  0\n",
      "13   13  0.60  0.40  0.52  0.46  0.5  0.0  0.53  0.22  6\n",
      "14   16  0.66  0.55  0.45  0.19  0.5  0.0  0.46  0.22  6\n",
      "15   20  0.46  0.44  0.52  0.11  0.5  0.0  0.50  0.22  0\n",
      "16   17  0.47  0.39  0.50  0.11  0.5  0.0  0.49  0.40  0\n",
      "17   18  0.58  0.47  0.54  0.11  0.5  0.0  0.51  0.26  7\n",
      "18   19  0.50  0.34  0.55  0.21  0.5  0.0  0.49  0.22  7\n",
      "19   21  0.61  0.60  0.55  0.21  0.5  0.0  0.50  0.25  7\n"
     ]
    }
   ],
   "source": [
    "data_frame['A'] = data_frame['A'].astype('category')\n",
    "data_frame['J'] = data_frame['J'].astype('category')\n",
    "cat_cols = ['A','J']\n",
    "\n",
    "data_frame[cat_cols] = data_frame[cat_cols].apply(lambda x : x.cat.codes)\n",
    "print data_frame.head(20)\n",
    "\n",
    "#data_list = data_frame.values.tolist()\n"
   ]
  },
  {
   "cell_type": "code",
   "execution_count": 47,
   "metadata": {
    "collapsed": false
   },
   "outputs": [],
   "source": [
    "a = CountMinSketch(1000,10)"
   ]
  },
  {
   "cell_type": "code",
   "execution_count": 88,
   "metadata": {
    "collapsed": false
   },
   "outputs": [
    {
     "name": "stdout",
     "output_type": "stream",
     "text": [
      "46\n",
      "0\n"
     ]
    }
   ],
   "source": [
    "#print(data_frame.ix[1].values.tolist())\n",
    "#a[1] = data_frame.ix[1].values.tolist()\n",
    "a['hello']  += 10\n",
    "print(a['hello'])\n",
    "a['hello'] += 8\n",
    "print(a[28])"
   ]
  },
  {
   "cell_type": "code",
   "execution_count": 70,
   "metadata": {
    "collapsed": false
   },
   "outputs": [
    {
     "name": "stdout",
     "output_type": "stream",
     "text": [
      "0.422269993919\n"
     ]
    }
   ],
   "source": [
    "seed_np = np.random.seed(1)\n",
    "s = 1000.0                                                      #sample size\n",
    "sqrt_s = np.sqrt(s)\n",
    "\n",
    "f = np.random.uniform(1.0/sqrt_s,1.0 - (1.0/sqrt_s))            #locality parameter\n",
    "\n",
    "print(locality_parameter)"
   ]
  },
  {
   "cell_type": "code",
   "execution_count": 72,
   "metadata": {
    "collapsed": false
   },
   "outputs": [
    {
     "name": "stdout",
     "output_type": "stream",
     "text": [
      "[ 0.28934763  0.08633405  0.37080264  0.01156496  0.28311831  0.1762153\n",
      "  0.23591795  0.05928119  0.08365231  0.3381304 ]\n"
     ]
    }
   ],
   "source": [
    "d = data_frame.shape[1]                                         #dimension of the dataset\n",
    "\n",
    "random_vector = np.random.uniform(0,f,d)\n",
    "print(random_vector)"
   ]
  },
  {
   "cell_type": "code",
   "execution_count": 74,
   "metadata": {
    "collapsed": false
   },
   "outputs": [
    {
     "name": "stdout",
     "output_type": "stream",
     "text": [
      "2.36815311152\n"
     ]
    }
   ],
   "source": [
    "base = np.maximum(2,1.0/f)\n",
    "print(base)"
   ]
  },
  {
   "cell_type": "code",
   "execution_count": 87,
   "metadata": {
    "collapsed": false
   },
   "outputs": [
    {
     "name": "stdout",
     "output_type": "stream",
     "text": [
      "6\n"
     ]
    }
   ],
   "source": [
    "np.random.seed(1)\n",
    "r = int(np.random.uniform(1.0+(0.5*math.log(s,base)),math.log(s,base)))\n",
    "\n"
   ]
  }
 ],
 "metadata": {
  "kernelspec": {
   "display_name": "Python 2",
   "language": "python",
   "name": "python2"
  },
  "language_info": {
   "codemirror_mode": {
    "name": "ipython",
    "version": 2
   },
   "file_extension": ".py",
   "mimetype": "text/x-python",
   "name": "python",
   "nbconvert_exporter": "python",
   "pygments_lexer": "ipython2",
   "version": "2.7.11"
  }
 },
 "nbformat": 4,
 "nbformat_minor": 2
}
