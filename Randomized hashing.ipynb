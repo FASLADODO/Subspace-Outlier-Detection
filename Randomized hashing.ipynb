{
 "cells": [
  {
   "cell_type": "markdown",
   "metadata": {},
   "source": [
    "# count min sketch source :\n",
    "https://github.com/rafacarrascosa/countminsketch"
   ]
  },
  {
   "cell_type": "code",
   "execution_count": 1,
   "metadata": {},
   "outputs": [
    {
     "name": "stdout",
     "output_type": "stream",
     "text": [
      "Requirement already satisfied: countminsketch in /home/rajatsaini/.local/lib/python2.7/site-packages\n"
     ]
    },
    {
     "data": {
      "text/plain": [
       "0"
      ]
     },
     "execution_count": 1,
     "metadata": {},
     "output_type": "execute_result"
    }
   ],
   "source": [
    "import pip\n",
    "pip.main(['install', \"countminsketch\"])"
   ]
  },
  {
   "cell_type": "code",
   "execution_count": 2,
   "metadata": {},
   "outputs": [],
   "source": [
    "#from count_min_sketch import CountMinSketch\n",
    "from countminsketch import CountMinSketch\n",
    "import pandas as pd\n",
    "import os\n",
    "import sys\n",
    "import matplotlib.pyplot as plt\n",
    "import numpy as np\n",
    "import math"
   ]
  },
  {
   "cell_type": "code",
   "execution_count": 3,
   "metadata": {
    "collapsed": true
   },
   "outputs": [],
   "source": [
    "np.random.seed(10)\n",
    "p= 10000\n",
    "w = 4\n",
    "\n",
    "#column_names = ['A','B','C','D','E','F','G','H','I','J']\n",
    "#data_frame = pd.read_fwf(\"F:\\\\IIT HYDERABAD NOTES\\\\Topics in DBMS\\\\yeast.data\",\n",
    "#                         sep = '\\t',names = column_names)\n",
    "#print data_frame.head()"
   ]
  },
  {
   "cell_type": "code",
   "execution_count": 72,
   "metadata": {},
   "outputs": [
    {
     "data": {
      "text/plain": [
       "\"data_frame['A'] = data_frame['A'].astype('category')\\ndata_frame['J'] = data_frame['J'].astype('category')\\ncat_cols = ['A','J']\\n\\ndata_frame[cat_cols] = data_frame[cat_cols].apply(lambda x : x.cat.codes)\\nprint data_frame.head()\\nprint(data_frame.shape)\\n\\n#data_list = data_frame.values.tolist()\\n\""
      ]
     },
     "execution_count": 72,
     "metadata": {},
     "output_type": "execute_result"
    }
   ],
   "source": [
    "\"\"\"data_frame['A'] = data_frame['A'].astype('category')\n",
    "data_frame['J'] = data_frame['J'].astype('category')\n",
    "cat_cols = ['A','J']\n",
    "\n",
    "data_frame[cat_cols] = data_frame[cat_cols].apply(lambda x : x.cat.codes)\n",
    "print data_frame.head()\n",
    "print(data_frame.shape)\n",
    "\n",
    "#data_list = data_frame.values.tolist()\n",
    "\"\"\""
   ]
  },
  {
   "cell_type": "code",
   "execution_count": 4,
   "metadata": {},
   "outputs": [
    {
     "name": "stdout",
     "output_type": "stream",
     "text": [
      "     0     1     2     3     4     5     6     7     8     9  ...    12    13  \\\n",
      "0  2.06  2.38 -1.49 -0.50 -1.03  1.72  2.13  1.56  4.33  2.53 ...  4.01  2.22   \n",
      "1  1.65  1.58  1.83  1.80  3.59  2.79  3.52  4.77  5.15  5.14 ...  0.29  2.28   \n",
      "2  0.21  0.25  0.27 -0.43 -0.02  0.58  0.22 -0.35  0.06  2.71 ...  3.21  4.92   \n",
      "3 -0.62  0.87  1.69  0.40  0.92  3.56  4.17  5.26  2.19  5.30 ...  2.45  1.99   \n",
      "4  0.39  0.61 -0.08 -0.37  1.09 -0.81  0.56 -0.10  3.50  4.20 ...  4.85  4.64   \n",
      "\n",
      "     14    15    16    17    18    19    20  21  \n",
      "0  4.22  2.39  2.47  0.80 -0.14 -0.46 -0.33   2  \n",
      "1  2.14 -0.24 -0.72  0.13 -0.39 -0.06 -1.18   1  \n",
      "2  4.23  5.47  3.97  3.60  1.86  0.40  0.26   2  \n",
      "3  2.00  0.12 -0.53 -0.79 -1.31  0.11 -1.09   1  \n",
      "4  4.25  3.49  1.99  3.30  1.61  0.56  1.80   2  \n",
      "\n",
      "[5 rows x 22 columns]\n"
     ]
    }
   ],
   "source": [
    "waveform_data = pd.read_csv(\"sanitized_waveform.data\",header = None)\n",
    "\n",
    "#count = 0\n",
    "\n",
    "#for i in range(0,len(waveform_data)):\n",
    "#    waveform_data[i] = tuple(waveform_data[i])\n",
    "    \n",
    "\n",
    "print(waveform_data.head())"
   ]
  },
  {
   "cell_type": "code",
   "execution_count": null,
   "metadata": {
    "collapsed": true
   },
   "outputs": [],
   "source": []
  },
  {
   "cell_type": "code",
   "execution_count": 5,
   "metadata": {
    "collapsed": true
   },
   "outputs": [],
   "source": [
    "cm_sketch = CountMinSketch(p,w)"
   ]
  },
  {
   "cell_type": "code",
   "execution_count": 75,
   "metadata": {
    "collapsed": true
   },
   "outputs": [],
   "source": [
    "#print(data_frame.ix[1].values.tolist())\n",
    "#a[1] = data_frame.ix[1].values.tolist()\n",
    "#a = CountMinSketch(p,w)\n",
    "#a[1] = 2\n",
    "#a[1] += 1\n",
    "#for i in a.get_columns(1):\n",
    "#    print i\n",
    "#\n",
    "#print(a.query(1))\n",
    "\n",
    "#a.add(tuple([1,2,3]))\n",
    "#print a[tuple([1,2,3])]\n",
    "#print a[tuple([1,2,3]]\n",
    "#print(a.tables)\n",
    "#p = [4,5,6]\n",
    "#p = np.vectorize(p)\n",
    "#print(p[0])\n",
    "\n",
    "\n"
   ]
  },
  {
   "cell_type": "code",
   "execution_count": 6,
   "metadata": {},
   "outputs": [
    {
     "name": "stdout",
     "output_type": "stream",
     "text": [
      "0.422269993919\n"
     ]
    }
   ],
   "source": [
    "seed_np = np.random.seed(1)\n",
    "s = 1000.0                                                      #sample size\n",
    "sqrt_s = np.sqrt(s)\n",
    "\n",
    "f = np.random.uniform(1.0/sqrt_s,1.0 - (1.0/sqrt_s))            #locality parameter\n",
    "\n",
    "print(f)"
   ]
  },
  {
   "cell_type": "code",
   "execution_count": 7,
   "metadata": {},
   "outputs": [
    {
     "name": "stdout",
     "output_type": "stream",
     "text": [
      "[  3.04171419e-01   4.82970534e-05   1.27665974e-01   6.19706091e-02\n",
      "   3.89918179e-02   7.86520983e-02   1.45919926e-01   1.67542999e-01\n",
      "   2.27526139e-01   1.77013265e-01   2.89347634e-01   8.63340503e-02\n",
      "   3.70802645e-01   1.15649588e-02   2.83118311e-01   1.76215296e-01\n",
      "   2.35917950e-01   5.92811917e-02   8.36523146e-02   3.38130404e-01\n",
      "   4.08867810e-01   1.32349626e-01]\n"
     ]
    }
   ],
   "source": [
    "d = waveform_data.shape[1]                                         #dimension of the dataset\n",
    "\n",
    "random_vector = np.random.uniform(0,f,d)\n",
    "print(random_vector)"
   ]
  },
  {
   "cell_type": "code",
   "execution_count": 27,
   "metadata": {},
   "outputs": [
    {
     "name": "stdout",
     "output_type": "stream",
     "text": [
      "     4     9     19    12    8     3 \n",
      "0 -1.03  2.53 -0.46  4.01  4.33 -0.50\n",
      "1  3.59  5.14 -0.06  0.29  5.15  1.80\n",
      "2 -0.02  2.71  0.40  3.21  0.06 -0.43\n",
      "3  0.92  5.30  0.11  2.45  2.19  0.40\n",
      "4  1.09  4.20  0.56  4.85  3.50 -0.37\n"
     ]
    }
   ],
   "source": [
    "np.random.seed(1)\n",
    "base =  np.maximum(2, 1/f)\n",
    "r = int(np.random.uniform(1.0+(0.5*math.log(s,base)),math.log(s,base)))\n",
    "waveform_randomly = waveform_data.sample(n=r,axis = 1)#waveform_data.sample(n=r,axis = 1)\n",
    "print(waveform_randomly.head())"
   ]
  },
  {
   "cell_type": "code",
   "execution_count": 28,
   "metadata": {},
   "outputs": [
    {
     "name": "stdout",
     "output_type": "stream",
     "text": [
      "(3509, 6)\n"
     ]
    }
   ],
   "source": [
    "print(waveform_randomly.shape)"
   ]
  },
  {
   "cell_type": "code",
   "execution_count": 29,
   "metadata": {},
   "outputs": [
    {
     "name": "stdout",
     "output_type": "stream",
     "text": [
      "(1000, 6)\n",
      "2.36815311152\n"
     ]
    }
   ],
   "source": [
    "sample_data = waveform_randomly.sample(n = int(s),random_state=12)\n",
    "print(sample_data.shape)\n",
    "base = np.maximum(2,1/f)\n",
    "print(base)\n"
   ]
  },
  {
   "cell_type": "code",
   "execution_count": 81,
   "metadata": {
    "collapsed": true
   },
   "outputs": [],
   "source": [
    "#sample 1000 data from randomly_waveform\n",
    "#waveform_randomly_train = waveform_randomly.sample(n=1000,axis = 0)\n",
    "#print(waveform_randomly_train.head())\n",
    "\n",
    "\n",
    "#for i in range(0,len(waveform_data)):\n",
    "#    waveform_randomly[i] = tuple(waveform_data[i])"
   ]
  },
  {
   "cell_type": "code",
   "execution_count": 30,
   "metadata": {},
   "outputs": [
    {
     "name": "stdout",
     "output_type": "stream",
     "text": [
      "4     6.11\n",
      "9     7.49\n",
      "19    3.59\n",
      "12    7.50\n",
      "8     7.90\n",
      "3     5.75\n",
      "dtype: float64\n",
      "4    -3.00\n",
      "9    -1.24\n",
      "19   -3.06\n",
      "12   -2.20\n",
      "8    -1.72\n",
      "3    -3.05\n",
      "dtype: float64\n"
     ]
    }
   ],
   "source": [
    "col_max = np.max(sample_data,axis = 0)\n",
    "col_min = np.min(sample_data,axis = 0)\n",
    "print(col_max)\n",
    "print(col_min)"
   ]
  },
  {
   "cell_type": "code",
   "execution_count": 31,
   "metadata": {},
   "outputs": [
    {
     "name": "stdout",
     "output_type": "stream",
     "text": [
      "            4         9         19        12        8         3 \n",
      "3288  0.324918  0.343643  0.332331  0.732990  0.257796  0.355682\n",
      "3366  0.463227  0.567010  0.569925  0.600000  0.853430  0.428409\n",
      "2037  0.535675  0.639175  0.497744  0.563918  0.567568  0.646591\n",
      "2881  0.864984  0.639175  0.824060  0.542268  0.680873  0.600000\n",
      "2999  0.285401  0.309278  0.569925  0.670103  0.195426  0.351136\n"
     ]
    }
   ],
   "source": [
    "normalized_waveform_sample = (sample_data - col_min)/(col_max-col_min)\n",
    "print(normalized_waveform_sample.head())"
   ]
  },
  {
   "cell_type": "code",
   "execution_count": 32,
   "metadata": {},
   "outputs": [
    {
     "name": "stdout",
     "output_type": "stream",
     "text": [
      "        0     1     2     3     4     5     6     7     8     9  ...    12  \\\n",
      "3288 -0.06 -0.16 -0.72  0.08 -0.04  2.06  0.87 -1.01  0.76  1.76 ...  4.91   \n",
      "3366  0.18  1.25  2.09  0.72  1.22  2.69  3.77  3.21  6.49  3.71 ...  3.62   \n",
      "2037  0.53 -0.51  0.46  2.64  1.88  2.81  1.55  2.43  3.74  4.34 ...  3.27   \n",
      "2881  0.29  0.82  2.47  2.23  4.88  5.53  6.19  4.67  4.83  4.34 ...  3.06   \n",
      "2999 -1.24  0.64 -0.58  0.04 -0.40 -0.11  2.24  1.73  0.16  1.46 ...  4.30   \n",
      "\n",
      "        13    14    15    16    17    18    19    20  21  \n",
      "3288  4.74  4.93  3.81  4.34  3.22  2.22 -0.85  0.55   2  \n",
      "3366  0.35  1.69  1.23  0.22  0.16 -1.07  0.73 -1.02   1  \n",
      "2037  1.37 -1.12  1.97 -0.04 -0.85 -0.14  0.25  1.31   1  \n",
      "2881  0.99 -0.71  1.08 -0.79 -0.44 -0.82  2.42  0.71   1  \n",
      "2999  3.10  3.77  3.68  2.44  2.35  1.00  0.73 -0.54   2  \n",
      "\n",
      "[5 rows x 22 columns]\n"
     ]
    }
   ],
   "source": [
    "indexes_sample = sample_data.index\n",
    "waveform_sample_rows = waveform_data.ix[indexes_sample]\n",
    "print(waveform_sample_rows.head())"
   ]
  },
  {
   "cell_type": "code",
   "execution_count": 33,
   "metadata": {},
   "outputs": [
    {
     "name": "stdout",
     "output_type": "stream",
     "text": [
      "Int64Index([4, 9, 19, 12, 8, 3], dtype='int64')\n",
      "      0   1   2     3     4   5   6   7     8     9  ...    12  13  14  15  \\\n",
      "3288  -1  -1  -1  0.08 -0.04  -1  -1  -1  0.76  1.76 ...  4.91  -1  -1  -1   \n",
      "3366  -1  -1  -1  0.72  1.22  -1  -1  -1  6.49  3.71 ...  3.62  -1  -1  -1   \n",
      "2037  -1  -1  -1  2.64  1.88  -1  -1  -1  3.74  4.34 ...  3.27  -1  -1  -1   \n",
      "2881  -1  -1  -1  2.23  4.88  -1  -1  -1  4.83  4.34 ...  3.06  -1  -1  -1   \n",
      "2999  -1  -1  -1  0.04 -0.40  -1  -1  -1  0.16  1.46 ...  4.30  -1  -1  -1   \n",
      "\n",
      "      16  17  18    19  20  21  \n",
      "3288  -1  -1  -1 -0.85  -1  -1  \n",
      "3366  -1  -1  -1  0.73  -1  -1  \n",
      "2037  -1  -1  -1  0.25  -1  -1  \n",
      "2881  -1  -1  -1  2.42  -1  -1  \n",
      "2999  -1  -1  -1  0.73  -1  -1  \n",
      "\n",
      "[5 rows x 22 columns]\n"
     ]
    }
   ],
   "source": [
    "included_cols = waveform_randomly.columns\n",
    "Y_cap = waveform_sample_rows\n",
    "print(included_cols)\n",
    "\n",
    "for col in Y_cap:\n",
    "    if col not in included_cols:\n",
    "        Y_cap[col] = -1\n",
    "        \n",
    "print(Y_cap.head())"
   ]
  },
  {
   "cell_type": "code",
   "execution_count": null,
   "metadata": {
    "collapsed": true
   },
   "outputs": [],
   "source": []
  },
  {
   "cell_type": "code",
   "execution_count": null,
   "metadata": {
    "collapsed": true
   },
   "outputs": [],
   "source": []
  },
  {
   "cell_type": "code",
   "execution_count": 34,
   "metadata": {},
   "outputs": [
    {
     "ename": "NameError",
     "evalue": "name 'normalized_waveform' is not defined",
     "output_type": "error",
     "traceback": [
      "\u001b[0;31m---------------------------------------------------------------------------\u001b[0m",
      "\u001b[0;31mNameError\u001b[0m                                 Traceback (most recent call last)",
      "\u001b[0;32m<ipython-input-34-4e09cd47c306>\u001b[0m in \u001b[0;36m<module>\u001b[0;34m()\u001b[0m\n\u001b[0;32m----> 1\u001b[0;31m \u001b[0mnormlized_waveform_sorted\u001b[0m  \u001b[0;34m=\u001b[0m \u001b[0mnormalized_waveform\u001b[0m\u001b[0;34m.\u001b[0m\u001b[0msort_index\u001b[0m\u001b[0;34m(\u001b[0m\u001b[0maxis\u001b[0m \u001b[0;34m=\u001b[0m \u001b[0;36m1\u001b[0m\u001b[0;34m)\u001b[0m\u001b[0;34m\u001b[0m\u001b[0m\n\u001b[0m\u001b[1;32m      2\u001b[0m \u001b[0;32mprint\u001b[0m\u001b[0;34m(\u001b[0m\u001b[0mnormlized_waveform_sorted\u001b[0m\u001b[0;34m.\u001b[0m\u001b[0mhead\u001b[0m\u001b[0;34m(\u001b[0m\u001b[0;34m)\u001b[0m\u001b[0;34m)\u001b[0m\u001b[0;34m\u001b[0m\u001b[0m\n",
      "\u001b[0;31mNameError\u001b[0m: name 'normalized_waveform' is not defined"
     ]
    }
   ],
   "source": [
    "normlized_waveform_sorted  = normalized_waveform.sort_index(axis = 1)\n",
    "print(normlized_waveform_sorted.head())"
   ]
  },
  {
   "cell_type": "code",
   "execution_count": 35,
   "metadata": {},
   "outputs": [
    {
     "name": "stdout",
     "output_type": "stream",
     "text": [
      "            0         1         2         3          4         5         6   \\\n",
      "3288 -1.647829 -2.368039 -2.065821  0.336208  -0.002388 -2.181893 -2.022592   \n",
      "3366 -1.647829 -2.368039 -2.065821  1.851826   2.981485 -2.181893 -2.022592   \n",
      "2037 -1.647829 -2.368039 -2.065821  6.398680   4.544466 -2.181893 -2.022592   \n",
      "2881 -1.647829 -2.368039 -2.065821  5.427737  11.648926 -2.181893 -2.022592   \n",
      "2999 -1.647829 -2.368039 -2.065821  0.241482  -0.854923 -2.181893 -2.022592   \n",
      "\n",
      "            7          8          9     ...            12        13        14  \\\n",
      "3288 -1.971386   2.338613   4.587144    ...     12.505749 -2.340766 -1.697686   \n",
      "3366 -1.971386  15.908130   9.205043    ...      9.450832 -2.340766 -1.697686   \n",
      "2037 -1.971386   9.395709  10.696979    ...      8.621978 -2.340766 -1.697686   \n",
      "2881 -1.971386  11.976996  10.696979    ...      8.124666 -2.340766 -1.697686   \n",
      "2999 -1.971386   0.917721   3.876698    ...     11.061176 -2.340766 -1.697686   \n",
      "\n",
      "            15        16        17        18        19        20        21  \n",
      "3288 -1.950848 -1.809463 -2.227766 -2.170052 -1.212186 -1.399892 -2.054729  \n",
      "3366 -1.950848 -1.809463 -2.227766 -2.170052  2.529496 -1.399892 -2.054729  \n",
      "2037 -1.950848 -1.809463 -2.227766 -2.170052  1.392783 -1.399892 -2.054729  \n",
      "2881 -1.950848 -1.809463 -2.227766 -2.170052  6.531675 -1.399892 -2.054729  \n",
      "2999 -1.950848 -1.809463 -2.227766 -2.170052  2.529496 -1.399892 -2.054729  \n",
      "\n",
      "[5 rows x 22 columns]\n"
     ]
    }
   ],
   "source": [
    "frame_to_hash = (Y_cap+random_vector)/f\n",
    "print(frame_to_hash.head())"
   ]
  },
  {
   "cell_type": "code",
   "execution_count": 36,
   "metadata": {},
   "outputs": [
    {
     "name": "stdout",
     "output_type": "stream",
     "text": [
      "(-1.647828618076671, -2.3680387367014846, -2.0658205388869892, 0.33620813973861935, -0.002387529691955376, -2.1818929001411584, -2.0225923844757814, -1.9713856372881593, 2.338613098757667, 4.5871439906764344, -1.6829336111220696, -2.1637008617873117, 12.505749213948398, -2.3407655183209028, -1.6976856013404271, -1.9508483091517022, -1.8094632830730775, -2.2277661729235954, -2.1700516224339506, -1.2121855761154683, -1.3998915357994317, -2.0547289333595864)\n"
     ]
    }
   ],
   "source": [
    "data_tuples = [tuple(x) for x in frame_to_hash.values]\n",
    "\n",
    "print(data_tuples[0])"
   ]
  },
  {
   "cell_type": "code",
   "execution_count": 45,
   "metadata": {},
   "outputs": [],
   "source": [
    "for i in data_tuples:\n",
    "    cm_sketch.add(i)"
   ]
  },
  {
   "cell_type": "code",
   "execution_count": 47,
   "metadata": {},
   "outputs": [
    {
     "name": "stdout",
     "output_type": "stream",
     "text": [
      "Int64Index([4, 9, 19, 12, 8, 3], dtype='int64')\n",
      "   0   1   2     3     4   5   6   7     8     9  ...    12  13  14  15  16  \\\n",
      "0  -1  -1  -1 -0.50 -1.03  -1  -1  -1  4.33  2.53 ...  4.01  -1  -1  -1  -1   \n",
      "1  -1  -1  -1  1.80  3.59  -1  -1  -1  5.15  5.14 ...  0.29  -1  -1  -1  -1   \n",
      "2  -1  -1  -1 -0.43 -0.02  -1  -1  -1  0.06  2.71 ...  3.21  -1  -1  -1  -1   \n",
      "3  -1  -1  -1  0.40  0.92  -1  -1  -1  2.19  5.30 ...  2.45  -1  -1  -1  -1   \n",
      "4  -1  -1  -1 -0.37  1.09  -1  -1  -1  3.50  4.20 ...  4.85  -1  -1  -1  -1   \n",
      "\n",
      "   17  18    19  20  21  \n",
      "0  -1  -1 -0.46  -1  -1  \n",
      "1  -1  -1 -0.06  -1  -1  \n",
      "2  -1  -1  0.40  -1  -1  \n",
      "3  -1  -1  0.11  -1  -1  \n",
      "4  -1  -1  0.56  -1  -1  \n",
      "\n",
      "[5 rows x 22 columns]\n"
     ]
    }
   ],
   "source": [
    "#included_cols_for_whole_data = waveform_randomly.columns\n",
    "Y_whole = waveform_data\n",
    "print(included_cols)\n",
    "\n",
    "for col in Y_cap:\n",
    "    if col not in included_cols:\n",
    "        Y_whole[col] = -1\n",
    "        \n",
    "print(Y_whole.head())\n"
   ]
  },
  {
   "cell_type": "code",
   "execution_count": 39,
   "metadata": {},
   "outputs": [
    {
     "name": "stdout",
     "output_type": "stream",
     "text": [
      "(3509, 22)\n"
     ]
    }
   ],
   "source": [
    "print(Y_whole.shape)"
   ]
  },
  {
   "cell_type": "code",
   "execution_count": 43,
   "metadata": {},
   "outputs": [],
   "source": [
    "for i in Y_whole:\n",
    "    cm_sketch.add(i)"
   ]
  },
  {
   "cell_type": "code",
   "execution_count": null,
   "metadata": {},
   "outputs": [],
   "source": []
  },
  {
   "cell_type": "code",
   "execution_count": null,
   "metadata": {
    "collapsed": true
   },
   "outputs": [],
   "source": []
  }
 ],
 "metadata": {
  "kernelspec": {
   "display_name": "Python 2",
   "language": "python",
   "name": "python2"
  },
  "language_info": {
   "codemirror_mode": {
    "name": "ipython",
    "version": 2
   },
   "file_extension": ".py",
   "mimetype": "text/x-python",
   "name": "python",
   "nbconvert_exporter": "python",
   "pygments_lexer": "ipython2",
   "version": "2.7.12"
  }
 },
 "nbformat": 4,
 "nbformat_minor": 2
}
