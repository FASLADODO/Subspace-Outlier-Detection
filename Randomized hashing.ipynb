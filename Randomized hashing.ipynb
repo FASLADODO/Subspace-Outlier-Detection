{
 "cells": [
  {
   "cell_type": "markdown",
   "metadata": {},
   "source": [
    "# count min sketch source :\n",
    "https://github.com/rafacarrascosa/countminsketch"
   ]
  },
  {
   "cell_type": "code",
   "execution_count": 3,
   "metadata": {},
   "outputs": [
    {
     "name": "stdout",
     "output_type": "stream",
     "text": [
      "Requirement already satisfied: countminsketch in /home/rajatsaini/.local/lib/python2.7/site-packages\n"
     ]
    },
    {
     "data": {
      "text/plain": [
       "0"
      ]
     },
     "execution_count": 3,
     "metadata": {},
     "output_type": "execute_result"
    }
   ],
   "source": [
    "import pip\n",
    "pip.main(['install', \"countminsketch\"])"
   ]
  },
  {
   "cell_type": "code",
   "execution_count": 4,
   "metadata": {
    "collapsed": true
   },
   "outputs": [],
   "source": [
    "#from count_min_sketch import CountMinSketch\n",
    "from countminsketch import CountMinSketch\n",
    "import pandas as pd\n",
    "import os\n",
    "import sys\n",
    "import matplotlib.pyplot as plt\n",
    "import numpy as np\n",
    "import math"
   ]
  },
  {
   "cell_type": "code",
   "execution_count": 5,
   "metadata": {
    "collapsed": true
   },
   "outputs": [],
   "source": [
    "np.random.seed(10)\n",
    "p= 10000\n",
    "w = 4\n",
    "\n",
    "#column_names = ['A','B','C','D','E','F','G','H','I','J']\n",
    "#data_frame = pd.read_fwf(\"F:\\\\IIT HYDERABAD NOTES\\\\Topics in DBMS\\\\yeast.data\",\n",
    "#                         sep = '\\t',names = column_names)\n",
    "#print data_frame.head()"
   ]
  },
  {
   "cell_type": "code",
   "execution_count": 72,
   "metadata": {},
   "outputs": [
    {
     "data": {
      "text/plain": [
       "\"data_frame['A'] = data_frame['A'].astype('category')\\ndata_frame['J'] = data_frame['J'].astype('category')\\ncat_cols = ['A','J']\\n\\ndata_frame[cat_cols] = data_frame[cat_cols].apply(lambda x : x.cat.codes)\\nprint data_frame.head()\\nprint(data_frame.shape)\\n\\n#data_list = data_frame.values.tolist()\\n\""
      ]
     },
     "execution_count": 72,
     "metadata": {},
     "output_type": "execute_result"
    }
   ],
   "source": [
    "\"\"\"data_frame['A'] = data_frame['A'].astype('category')\n",
    "data_frame['J'] = data_frame['J'].astype('category')\n",
    "cat_cols = ['A','J']\n",
    "\n",
    "data_frame[cat_cols] = data_frame[cat_cols].apply(lambda x : x.cat.codes)\n",
    "print data_frame.head()\n",
    "print(data_frame.shape)\n",
    "\n",
    "#data_list = data_frame.values.tolist()\n",
    "\"\"\""
   ]
  },
  {
   "cell_type": "code",
   "execution_count": 6,
   "metadata": {},
   "outputs": [
    {
     "name": "stdout",
     "output_type": "stream",
     "text": [
      "     0     1     2     3     4     5     6     7     8     9  ...    12    13  \\\n",
      "0  2.06  2.38 -1.49 -0.50 -1.03  1.72  2.13  1.56  4.33  2.53 ...  4.01  2.22   \n",
      "1  1.65  1.58  1.83  1.80  3.59  2.79  3.52  4.77  5.15  5.14 ...  0.29  2.28   \n",
      "2  0.21  0.25  0.27 -0.43 -0.02  0.58  0.22 -0.35  0.06  2.71 ...  3.21  4.92   \n",
      "3 -0.62  0.87  1.69  0.40  0.92  3.56  4.17  5.26  2.19  5.30 ...  2.45  1.99   \n",
      "4  0.39  0.61 -0.08 -0.37  1.09 -0.81  0.56 -0.10  3.50  4.20 ...  4.85  4.64   \n",
      "\n",
      "     14    15    16    17    18    19    20  21  \n",
      "0  4.22  2.39  2.47  0.80 -0.14 -0.46 -0.33   2  \n",
      "1  2.14 -0.24 -0.72  0.13 -0.39 -0.06 -1.18   1  \n",
      "2  4.23  5.47  3.97  3.60  1.86  0.40  0.26   2  \n",
      "3  2.00  0.12 -0.53 -0.79 -1.31  0.11 -1.09   1  \n",
      "4  4.25  3.49  1.99  3.30  1.61  0.56  1.80   2  \n",
      "\n",
      "[5 rows x 22 columns]\n"
     ]
    }
   ],
   "source": [
    "waveform_data = pd.read_csv(\"sanitized_waveform.data\",header = None)\n",
    "\n",
    "#count = 0\n",
    "\n",
    "#for i in range(0,len(waveform_data)):\n",
    "#    waveform_data[i] = tuple(waveform_data[i])\n",
    "    \n",
    "\n",
    "print(waveform_data.head())"
   ]
  },
  {
   "cell_type": "code",
   "execution_count": null,
   "metadata": {
    "collapsed": true
   },
   "outputs": [],
   "source": []
  },
  {
   "cell_type": "code",
   "execution_count": 7,
   "metadata": {
    "collapsed": true
   },
   "outputs": [],
   "source": [
    "cm_sketch = CountMinSketch(p,w)"
   ]
  },
  {
   "cell_type": "code",
   "execution_count": 75,
   "metadata": {
    "collapsed": true
   },
   "outputs": [],
   "source": [
    "#print(data_frame.ix[1].values.tolist())\n",
    "#a[1] = data_frame.ix[1].values.tolist()\n",
    "#a = CountMinSketch(p,w)\n",
    "#a[1] = 2\n",
    "#a[1] += 1\n",
    "#for i in a.get_columns(1):\n",
    "#    print i\n",
    "#\n",
    "#print(a.query(1))\n",
    "\n",
    "#a.add(tuple([1,2,3]))\n",
    "#print a[tuple([1,2,3])]\n",
    "#print a[tuple([1,2,3]]\n",
    "#print(a.tables)\n",
    "#p = [4,5,6]\n",
    "#p = np.vectorize(p)\n",
    "#print(p[0])\n",
    "\n",
    "\n"
   ]
  },
  {
   "cell_type": "code",
   "execution_count": 8,
   "metadata": {},
   "outputs": [
    {
     "name": "stdout",
     "output_type": "stream",
     "text": [
      "0.422269993919\n"
     ]
    }
   ],
   "source": [
    "seed_np = np.random.seed(1)\n",
    "s = 1000.0                                                      #sample size\n",
    "sqrt_s = np.sqrt(s)\n",
    "\n",
    "f = np.random.uniform(1.0/sqrt_s,1.0 - (1.0/sqrt_s))            #locality parameter\n",
    "\n",
    "print(f)"
   ]
  },
  {
   "cell_type": "code",
   "execution_count": 9,
   "metadata": {},
   "outputs": [
    {
     "name": "stdout",
     "output_type": "stream",
     "text": [
      "[  3.04171419e-01   4.82970534e-05   1.27665974e-01   6.19706091e-02\n",
      "   3.89918179e-02   7.86520983e-02   1.45919926e-01   1.67542999e-01\n",
      "   2.27526139e-01   1.77013265e-01   2.89347634e-01   8.63340503e-02\n",
      "   3.70802645e-01   1.15649588e-02   2.83118311e-01   1.76215296e-01\n",
      "   2.35917950e-01   5.92811917e-02   8.36523146e-02   3.38130404e-01\n",
      "   4.08867810e-01   1.32349626e-01]\n"
     ]
    }
   ],
   "source": [
    "d = waveform_data.shape[1]                                         #dimension of the dataset\n",
    "\n",
    "random_vector = np.random.uniform(0,f,d)\n",
    "print(random_vector)"
   ]
  },
  {
   "cell_type": "code",
   "execution_count": 10,
   "metadata": {},
   "outputs": [
    {
     "name": "stdout",
     "output_type": "stream",
     "text": [
      "     19  21    10    1     2     3 \n",
      "0 -0.46   2  5.44  2.38 -1.49 -0.50\n",
      "1 -0.06   1  3.19  1.58  1.83  1.80\n",
      "2  0.40   2 -0.99  0.25  0.27 -0.43\n",
      "3  0.11   1  4.15  0.87  1.69  0.40\n",
      "4  0.56   2  2.40  0.61 -0.08 -0.37\n"
     ]
    }
   ],
   "source": [
    "np.random.seed(1)\n",
    "base =  np.maximum(2, 1/f)\n",
    "r = int(np.random.uniform(1.0+(0.5*math.log(s,base)),math.log(s,base)))\n",
    "waveform_randomly = waveform_data.sample(n=r,axis = 1)#waveform_data.sample(n=r,axis = 1)\n",
    "print(waveform_randomly.head())"
   ]
  },
  {
   "cell_type": "code",
   "execution_count": 11,
   "metadata": {},
   "outputs": [
    {
     "name": "stdout",
     "output_type": "stream",
     "text": [
      "(3509, 6)\n"
     ]
    }
   ],
   "source": [
    "print(waveform_randomly.shape)"
   ]
  },
  {
   "cell_type": "code",
   "execution_count": 12,
   "metadata": {},
   "outputs": [
    {
     "name": "stdout",
     "output_type": "stream",
     "text": [
      "(1000, 6)\n",
      "2.36815311152\n"
     ]
    }
   ],
   "source": [
    "sample_data = waveform_randomly.sample(n = int(s),random_state=12)\n",
    "print(sample_data.shape)\n",
    "base = np.maximum(2,1/f)\n",
    "print(base)\n"
   ]
  },
  {
   "cell_type": "code",
   "execution_count": 81,
   "metadata": {
    "collapsed": true
   },
   "outputs": [],
   "source": [
    "#sample 1000 data from randomly_waveform\n",
    "#waveform_randomly_train = waveform_randomly.sample(n=1000,axis = 0)\n",
    "#print(waveform_randomly_train.head())\n",
    "\n",
    "\n",
    "#for i in range(0,len(waveform_data)):\n",
    "#    waveform_randomly[i] = tuple(waveform_data[i])"
   ]
  },
  {
   "cell_type": "code",
   "execution_count": 13,
   "metadata": {},
   "outputs": [
    {
     "name": "stdout",
     "output_type": "stream",
     "text": [
      "19    3.59\n",
      "21    2.00\n",
      "10    8.05\n",
      "1     3.40\n",
      "2     4.72\n",
      "3     5.75\n",
      "dtype: float64\n",
      "19   -3.06\n",
      "21    0.00\n",
      "10   -0.17\n",
      "1    -3.25\n",
      "2    -3.56\n",
      "3    -3.05\n",
      "dtype: float64\n"
     ]
    }
   ],
   "source": [
    "col_max = np.max(sample_data,axis = 0)\n",
    "col_min = np.min(sample_data,axis = 0)\n",
    "print(col_max)\n",
    "print(col_min)"
   ]
  },
  {
   "cell_type": "code",
   "execution_count": 14,
   "metadata": {},
   "outputs": [
    {
     "name": "stdout",
     "output_type": "stream",
     "text": [
      "            19   21        10        1         2         3 \n",
      "3288  0.332331  1.0  0.350365  0.464662  0.342995  0.355682\n",
      "3366  0.569925  0.5  0.473236  0.676692  0.682367  0.428409\n",
      "2037  0.497744  0.5  0.354015  0.412030  0.485507  0.646591\n",
      "2881  0.824060  0.5  0.330900  0.612030  0.728261  0.600000\n",
      "2999  0.569925  1.0  0.517032  0.584962  0.359903  0.351136\n"
     ]
    }
   ],
   "source": [
    "normalized_waveform_sample = (sample_data - col_min)/(col_max-col_min)\n",
    "print(normalized_waveform_sample.head())"
   ]
  },
  {
   "cell_type": "code",
   "execution_count": 15,
   "metadata": {},
   "outputs": [
    {
     "name": "stdout",
     "output_type": "stream",
     "text": [
      "        0     1     2     3     4     5     6     7     8     9  ...    12  \\\n",
      "3288 -0.06 -0.16 -0.72  0.08 -0.04  2.06  0.87 -1.01  0.76  1.76 ...  4.91   \n",
      "3366  0.18  1.25  2.09  0.72  1.22  2.69  3.77  3.21  6.49  3.71 ...  3.62   \n",
      "2037  0.53 -0.51  0.46  2.64  1.88  2.81  1.55  2.43  3.74  4.34 ...  3.27   \n",
      "2881  0.29  0.82  2.47  2.23  4.88  5.53  6.19  4.67  4.83  4.34 ...  3.06   \n",
      "2999 -1.24  0.64 -0.58  0.04 -0.40 -0.11  2.24  1.73  0.16  1.46 ...  4.30   \n",
      "\n",
      "        13    14    15    16    17    18    19    20  21  \n",
      "3288  4.74  4.93  3.81  4.34  3.22  2.22 -0.85  0.55   2  \n",
      "3366  0.35  1.69  1.23  0.22  0.16 -1.07  0.73 -1.02   1  \n",
      "2037  1.37 -1.12  1.97 -0.04 -0.85 -0.14  0.25  1.31   1  \n",
      "2881  0.99 -0.71  1.08 -0.79 -0.44 -0.82  2.42  0.71   1  \n",
      "2999  3.10  3.77  3.68  2.44  2.35  1.00  0.73 -0.54   2  \n",
      "\n",
      "[5 rows x 22 columns]\n"
     ]
    }
   ],
   "source": [
    "indexes_sample = sample_data.index\n",
    "waveform_sample_rows = waveform_data.ix[indexes_sample]\n",
    "print(waveform_sample_rows.head())"
   ]
  },
  {
   "cell_type": "code",
   "execution_count": 26,
   "metadata": {},
   "outputs": [
    {
     "name": "stdout",
     "output_type": "stream",
     "text": [
      "Int64Index([19, 21, 10, 1, 2, 3], dtype='int64')\n",
      "      0   1   2   3   4   5   6   7   8   9  ...  12  13  14  15  16  17  18  \\\n",
      "3288  -1  -3  -7   2  -1  -1  -1  -1  -1  -1 ...  -1  -1  -1  -1  -1  -1  -1   \n",
      "3366  -1  16  30  10  -1  -1  -1  -1  -1  -1 ...  -1  -1  -1  -1  -1  -1  -1   \n",
      "2037  -1  -7   8  36  -1  -1  -1  -1  -1  -1 ...  -1  -1  -1  -1  -1  -1  -1   \n",
      "2881  -1  10  35  30  -1  -1  -1  -1  -1  -1 ...  -1  -1  -1  -1  -1  -1  -1   \n",
      "2999  -1   8  -5   1  -1  -1  -1  -1  -1  -1 ...  -1  -1  -1  -1  -1  -1  -1   \n",
      "\n",
      "      19  20  21  \n",
      "3288  -5  -1  29  \n",
      "3366  16  -1  16  \n",
      "2037  10  -1  16  \n",
      "2881  39  -1  16  \n",
      "2999  16  -1  29  \n",
      "\n",
      "[5 rows x 22 columns]\n"
     ]
    }
   ],
   "source": [
    "included_cols = waveform_randomly.columns\n",
    "Y_cap = waveform_sample_rows\n",
    "\n",
    "print(included_cols)\n",
    "\n",
    "for col in Y_cap:\n",
    "    if col not in included_cols:\n",
    "        Y_cap[col] = -1\n",
    "    else:\n",
    "        Y_cap[col] = np.floor((Y_cap[col] + random_vector[col] )/ f)\n",
    "        \n",
    "print(Y_cap.head())"
   ]
  },
  {
   "cell_type": "code",
   "execution_count": null,
   "metadata": {
    "collapsed": true
   },
   "outputs": [],
   "source": []
  },
  {
   "cell_type": "code",
   "execution_count": null,
   "metadata": {
    "collapsed": true
   },
   "outputs": [],
   "source": []
  },
  {
   "cell_type": "code",
   "execution_count": 21,
   "metadata": {},
   "outputs": [],
   "source": [
    "#normlized_waveform_sorted  = normalized_waveform.sort_index(axis = 1)\n",
    "#print(normlized_waveform_sorted.head())"
   ]
  },
  {
   "cell_type": "code",
   "execution_count": 27,
   "metadata": {},
   "outputs": [],
   "source": [
    "#frame_to_hash = (Y_cap+random_vector)/f\n",
    "#print(frame_to_hash.head())"
   ]
  },
  {
   "cell_type": "code",
   "execution_count": 28,
   "metadata": {},
   "outputs": [
    {
     "name": "stdout",
     "output_type": "stream",
     "text": [
      "(-1, -3.0, -7.0, 2.0, -1, -1, -1, -1, -1, -1, 42.0, -1, -1, -1, -1, -1, -1, -1, -1, -5.0, -1, 29.0)\n"
     ]
    }
   ],
   "source": [
    "data_tuples = [tuple(x) for x in Y_cap.to_records(index=False)]\n",
    "\n",
    "print(data_tuples[0])"
   ]
  },
  {
   "cell_type": "code",
   "execution_count": 29,
   "metadata": {
    "collapsed": true
   },
   "outputs": [],
   "source": [
    "for i in data_tuples:\n",
    "    cm_sketch.add(i)"
   ]
  },
  {
   "cell_type": "code",
   "execution_count": 30,
   "metadata": {},
   "outputs": [
    {
     "name": "stdout",
     "output_type": "stream",
     "text": [
      "Int64Index([19, 21, 10, 1, 2, 3], dtype='int64')\n",
      "   0   1   2   3   4   5   6   7   8   9  ...  12  13  14  15  16  17  18  19  \\\n",
      "0  -1   2  -2  -1  -1  -1  -1  -1  -1  -1 ...  -1  -1  -1  -1  -1  -1  -1   0   \n",
      "1  -1   1   2   1  -1  -1  -1  -1  -1  -1 ...  -1  -1  -1  -1  -1  -1  -1   0   \n",
      "2  -1   0   0  -1  -1  -1  -1  -1  -1  -1 ...  -1  -1  -1  -1  -1  -1  -1   1   \n",
      "3  -1   0   1   0  -1  -1  -1  -1  -1  -1 ...  -1  -1  -1  -1  -1  -1  -1   0   \n",
      "4  -1   0   0  -1  -1  -1  -1  -1  -1  -1 ...  -1  -1  -1  -1  -1  -1  -1   1   \n",
      "\n",
      "   20  21  \n",
      "0  -1   2  \n",
      "1  -1   1  \n",
      "2  -1   2  \n",
      "3  -1   1  \n",
      "4  -1   2  \n",
      "\n",
      "[5 rows x 22 columns]\n"
     ]
    }
   ],
   "source": [
    "#included_cols_for_whole_data = waveform_randomly.columns\n",
    "Y_whole = waveform_data\n",
    "print(included_cols)\n",
    "\n",
    "for col in Y_cap:\n",
    "    if col not in included_cols:\n",
    "        Y_whole[col] = -1\n",
    "    else:\n",
    "        Y_whole[col] = np.floor(Y_whole[col] + random_vector[col] / f)\n",
    "        \n",
    "print(Y_whole.head())\n"
   ]
  },
  {
   "cell_type": "code",
   "execution_count": 39,
   "metadata": {},
   "outputs": [
    {
     "name": "stdout",
     "output_type": "stream",
     "text": [
      "(3509, 22)\n"
     ]
    }
   ],
   "source": [
    "print(Y_whole.shape)"
   ]
  },
  {
   "cell_type": "code",
   "execution_count": 43,
   "metadata": {
    "collapsed": true
   },
   "outputs": [],
   "source": [
    "for i in Y_whole:\n",
    "    cm_sketch.add(i)"
   ]
  },
  {
   "cell_type": "code",
   "execution_count": null,
   "metadata": {
    "collapsed": true
   },
   "outputs": [],
   "source": []
  },
  {
   "cell_type": "code",
   "execution_count": null,
   "metadata": {
    "collapsed": true
   },
   "outputs": [],
   "source": []
  }
 ],
 "metadata": {
  "kernelspec": {
   "display_name": "Python 2",
   "language": "python",
   "name": "python2"
  },
  "language_info": {
   "codemirror_mode": {
    "name": "ipython",
    "version": 2
   },
   "file_extension": ".py",
   "mimetype": "text/x-python",
   "name": "python",
   "nbconvert_exporter": "python",
   "pygments_lexer": "ipython2",
   "version": "2.7.12"
  }
 },
 "nbformat": 4,
 "nbformat_minor": 2
}
