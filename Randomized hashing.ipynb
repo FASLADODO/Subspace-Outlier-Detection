{
 "cells": [
  {
   "cell_type": "markdown",
   "metadata": {},
   "source": [
    "# count min sketch source :\n",
    "https://github.com/rafacarrascosa/countminsketch"
   ]
  },
  {
   "cell_type": "code",
   "execution_count": 41,
   "metadata": {
    "collapsed": false
   },
   "outputs": [
    {
     "name": "stdout",
     "output_type": "stream",
     "text": [
      "Requirement already satisfied (use --upgrade to upgrade): countminsketch in c:\\users\\hp\\anaconda2\\lib\\site-packages\n"
     ]
    },
    {
     "name": "stderr",
     "output_type": "stream",
     "text": [
      "You are using pip version 8.1.2, however version 9.0.1 is available.\n",
      "You should consider upgrading via the 'python -m pip install --upgrade pip' command.\n"
     ]
    },
    {
     "data": {
      "text/plain": [
       "0"
      ]
     },
     "execution_count": 41,
     "metadata": {},
     "output_type": "execute_result"
    }
   ],
   "source": [
    "import pip\n",
    "pip.main(['install', \"countminsketch\"])"
   ]
  },
  {
   "cell_type": "code",
   "execution_count": 1,
   "metadata": {
    "collapsed": true
   },
   "outputs": [],
   "source": [
    "#from count_min_sketch import CountMinSketch\n",
    "from countminsketch import CountMinSketch\n",
    "import pandas as pd\n",
    "import os\n",
    "import sys\n",
    "import matplotlib.pyplot as plt\n",
    "import numpy as np\n",
    "import math"
   ]
  },
  {
   "cell_type": "code",
   "execution_count": 47,
   "metadata": {
    "collapsed": false
   },
   "outputs": [],
   "source": [
    "p= 10000\n",
    "w = 4\n",
    "\n",
    "#column_names = ['A','B','C','D','E','F','G','H','I','J']\n",
    "#data_frame = pd.read_fwf(\"F:\\\\IIT HYDERABAD NOTES\\\\Topics in DBMS\\\\yeast.data\",\n",
    "#                         sep = '\\t',names = column_names)\n",
    "#print data_frame.head()"
   ]
  },
  {
   "cell_type": "code",
   "execution_count": 4,
   "metadata": {
    "collapsed": false
   },
   "outputs": [
    {
     "data": {
      "text/plain": [
       "\"data_frame['A'] = data_frame['A'].astype('category')\\ndata_frame['J'] = data_frame['J'].astype('category')\\ncat_cols = ['A','J']\\n\\ndata_frame[cat_cols] = data_frame[cat_cols].apply(lambda x : x.cat.codes)\\nprint data_frame.head()\\nprint(data_frame.shape)\\n\\n#data_list = data_frame.values.tolist()\\n\""
      ]
     },
     "execution_count": 4,
     "metadata": {},
     "output_type": "execute_result"
    }
   ],
   "source": [
    "\"\"\"data_frame['A'] = data_frame['A'].astype('category')\n",
    "data_frame['J'] = data_frame['J'].astype('category')\n",
    "cat_cols = ['A','J']\n",
    "\n",
    "data_frame[cat_cols] = data_frame[cat_cols].apply(lambda x : x.cat.codes)\n",
    "print data_frame.head()\n",
    "print(data_frame.shape)\n",
    "\n",
    "#data_list = data_frame.values.tolist()\n",
    "\"\"\""
   ]
  },
  {
   "cell_type": "code",
   "execution_count": 36,
   "metadata": {
    "collapsed": false
   },
   "outputs": [
    {
     "name": "stdout",
     "output_type": "stream",
     "text": [
      "     0     1     2     3     4     5     6     7     8     9  ...    12    13  \\\n",
      "0  2.06  2.38 -1.49 -0.50 -1.03  1.72  2.13  1.56  4.33  2.53 ...  4.01  2.22   \n",
      "1  1.65  1.58  1.83  1.80  3.59  2.79  3.52  4.77  5.15  5.14 ...  0.29  2.28   \n",
      "2  0.21  0.25  0.27 -0.43 -0.02  0.58  0.22 -0.35  0.06  2.71 ...  3.21  4.92   \n",
      "3 -0.62  0.87  1.69  0.40  0.92  3.56  4.17  5.26  2.19  5.30 ...  2.45  1.99   \n",
      "4  0.39  0.61 -0.08 -0.37  1.09 -0.81  0.56 -0.10  3.50  4.20 ...  4.85  4.64   \n",
      "\n",
      "     14    15    16    17    18    19    20  21  \n",
      "0  4.22  2.39  2.47  0.80 -0.14 -0.46 -0.33   2  \n",
      "1  2.14 -0.24 -0.72  0.13 -0.39 -0.06 -1.18   1  \n",
      "2  4.23  5.47  3.97  3.60  1.86  0.40  0.26   2  \n",
      "3  2.00  0.12 -0.53 -0.79 -1.31  0.11 -1.09   1  \n",
      "4  4.25  3.49  1.99  3.30  1.61  0.56  1.80   2  \n",
      "\n",
      "[5 rows x 22 columns]\n"
     ]
    }
   ],
   "source": [
    "waveform_data = pd.read_csv(\"waveform.data\",header = None)\n",
    "\n",
    "count = 0\n",
    "\n",
    "#for i in range(0,len(waveform_data)):\n",
    "#    waveform_data[i] = tuple(waveform_data[i])\n",
    "    \n",
    "\n",
    "print(waveform_data.head())"
   ]
  },
  {
   "cell_type": "code",
   "execution_count": null,
   "metadata": {
    "collapsed": false
   },
   "outputs": [],
   "source": []
  },
  {
   "cell_type": "code",
   "execution_count": 48,
   "metadata": {
    "collapsed": false
   },
   "outputs": [],
   "source": [
    "a = CountMinSketch(p,w)"
   ]
  },
  {
   "cell_type": "code",
   "execution_count": 6,
   "metadata": {
    "collapsed": false
   },
   "outputs": [
    {
     "data": {
      "text/plain": [
       "'a[1] = 2\\na[1] += 1\\nfor i in a.get_columns(1):\\n    print i\\n\\nprint(a.query(1))\\n'"
      ]
     },
     "execution_count": 6,
     "metadata": {},
     "output_type": "execute_result"
    }
   ],
   "source": [
    "#print(data_frame.ix[1].values.tolist())\n",
    "#a[1] = data_frame.ix[1].values.tolist()\n",
    "\"\"\"a[1] = 2\n",
    "a[1] += 1\n",
    "for i in a.get_columns(1):\n",
    "    print i\n",
    "\n",
    "print(a.query(1))\n",
    "\"\"\"\n",
    "\n",
    "#a.add(tuple([1,2,3]))\n",
    "#print a[tuple([1,2,3])]\n",
    "#print a[tuple([1,2,3]]\n",
    "#print(a.tables)\n",
    "#p = [4,5,6]\n",
    "#p = np.vectorize(p)\n",
    "#print(p[0])\n",
    "\n",
    "\n"
   ]
  },
  {
   "cell_type": "code",
   "execution_count": 37,
   "metadata": {
    "collapsed": false
   },
   "outputs": [
    {
     "name": "stdout",
     "output_type": "stream",
     "text": [
      "0.422269993919\n"
     ]
    }
   ],
   "source": [
    "seed_np = np.random.seed(1)\n",
    "s = 1000.0                                                      #sample size\n",
    "sqrt_s = np.sqrt(s)\n",
    "\n",
    "f = np.random.uniform(1.0/sqrt_s,1.0 - (1.0/sqrt_s))            #locality parameter\n",
    "\n",
    "print(f)"
   ]
  },
  {
   "cell_type": "code",
   "execution_count": 40,
   "metadata": {
    "collapsed": false
   },
   "outputs": [
    {
     "name": "stdout",
     "output_type": "stream",
     "text": [
      "[ 2.92347067  3.70072842  3.7776555   0.35911619  0.16491663  0.7171429\n",
      "  3.7081323   0.41528917  1.77821114  4.04488006  2.25139702  2.92158945\n",
      "  1.33232784  2.89888743  3.52437377  0.07722591  3.16763435  4.17566366\n",
      "  3.15927906  1.18423083  3.33288977  0.43589245]\n"
     ]
    }
   ],
   "source": [
    "d = waveform_data.shape[1]                                         #dimension of the dataset\n",
    "\n",
    "random_vector = np.random.uniform(0,f,d)*10\n",
    "print(random_vector)"
   ]
  },
  {
   "cell_type": "code",
   "execution_count": 42,
   "metadata": {
    "collapsed": false
   },
   "outputs": [
    {
     "name": "stdout",
     "output_type": "stream",
     "text": [
      "(1000, 22)\n",
      "2.36815311152\n"
     ]
    }
   ],
   "source": [
    "sample_data = waveform_data.sample(n = s)\n",
    "print(sample_data.shape)\n",
    "base = np.maximum(2,1.0/f)\n",
    "print(base)"
   ]
  },
  {
   "cell_type": "code",
   "execution_count": 45,
   "metadata": {
    "collapsed": false
   },
   "outputs": [
    {
     "name": "stdout",
     "output_type": "stream",
     "text": [
      "     8     2     5     14    12    0 \n",
      "0  4.33 -1.49  1.72  4.22  4.01  2.06\n",
      "1  5.15  1.83  2.79  2.14  0.29  1.65\n",
      "2  0.06  0.27  0.58  4.23  3.21  0.21\n",
      "3  2.19  1.69  3.56  2.00  2.45 -0.62\n",
      "4  3.50 -0.08 -0.81  4.25  4.85  0.39\n",
      "3375\n"
     ]
    }
   ],
   "source": [
    "#randomly select 'r' columns from dataset\n",
    "np.random.seed(1)\n",
    "r = int(np.random.uniform(1.0+(0.5*math.log(s,base)),math.log(s,base)))\n",
    "waveform_randomly = waveform_data.sample(n=r,axis = 1)\n",
    "print(waveform_randomly.head())\n"
   ]
  },
  {
   "cell_type": "code",
   "execution_count": 84,
   "metadata": {
    "collapsed": false
   },
   "outputs": [
    {
     "name": "stdout",
     "output_type": "stream",
     "text": [
      "[[4.22, -0.2, 0.56, 3.36, 1.61, 0.2], [2.0, -0.95, 1.78, 1.91, 5.87, 0.09], [5.93, 2.87, 5.27, -0.59, 0.77, 1.01]]\n"
     ]
    }
   ],
   "source": [
    "#sample 1000 data from randomly_waveform\n",
    "waveform_randomly_train = waveform_randomly.sample(n=1000,axis = 0).values.tolist()\n",
    "print(waveform_randomly_train[0:3])\n",
    "\n",
    "\n",
    "#for i in range(0,len(waveform_data)):\n",
    "#    waveform_randomly[i] = tuple(waveform_data[i])"
   ]
  },
  {
   "cell_type": "code",
   "execution_count": 85,
   "metadata": {
    "collapsed": false
   },
   "outputs": [
    {
     "name": "stdout",
     "output_type": "stream",
     "text": [
      "[ 6.72  4.39  6.73  8.72  6.98  2.72]\n"
     ]
    }
   ],
   "source": [
    "col_max = np.max(waveform_randomly_train,axis = 0)\n",
    "print(col_max)"
   ]
  },
  {
   "cell_type": "code",
   "execution_count": 86,
   "metadata": {
    "collapsed": false
   },
   "outputs": [
    {
     "name": "stdout",
     "output_type": "stream",
     "text": [
      "[-2.5  -4.59 -6.17 -5.36 -5.37 -2.52]\n"
     ]
    }
   ],
   "source": [
    "normalized_waveform = waveform_randomly_train - col_max\n",
    "print(normalized_waveform[0])"
   ]
  },
  {
   "cell_type": "code",
   "execution_count": null,
   "metadata": {
    "collapsed": true
   },
   "outputs": [],
   "source": []
  }
 ],
 "metadata": {
  "kernelspec": {
   "display_name": "Python 2",
   "language": "python",
   "name": "python2"
  },
  "language_info": {
   "codemirror_mode": {
    "name": "ipython",
    "version": 2
   },
   "file_extension": ".py",
   "mimetype": "text/x-python",
   "name": "python",
   "nbconvert_exporter": "python",
   "pygments_lexer": "ipython2",
   "version": "2.7.11"
  }
 },
 "nbformat": 4,
 "nbformat_minor": 2
}
